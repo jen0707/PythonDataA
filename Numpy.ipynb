{
  "cells": [
    {
      "cell_type": "markdown",
      "metadata": {
        "id": "view-in-github",
        "colab_type": "text"
      },
      "source": [
        "<a href=\"https://colab.research.google.com/github/jen0707/PythonDataA/blob/main/Numpy.ipynb\" target=\"_parent\"><img src=\"https://colab.research.google.com/assets/colab-badge.svg\" alt=\"Open In Colab\"/></a>"
      ]
    },
    {
      "cell_type": "code",
      "execution_count": null,
      "metadata": {
        "id": "Z2_xPVvYJodv"
      },
      "outputs": [],
      "source": [
        "# numpy 불러와서 np로 사용\n",
        "import numpy as np"
      ]
    },
    {
      "cell_type": "code",
      "execution_count": null,
      "metadata": {
        "id": "clY457qnJvuF",
        "colab": {
          "base_uri": "https://localhost:8080/"
        },
        "outputId": "9080e2cf-9112-43de-e9de-d5f59e866813"
      },
      "outputs": [
        {
          "output_type": "stream",
          "name": "stdout",
          "text": [
            "[1 2 3]\n"
          ]
        }
      ],
      "source": [
        "# 간단한 1차원 넘파이 배열 생성하고 출력\n",
        "print(np.array([1, 2, 3]))"
      ]
    },
    {
      "cell_type": "code",
      "execution_count": null,
      "metadata": {
        "id": "5tQt5kuoKGk2",
        "colab": {
          "base_uri": "https://localhost:8080/"
        },
        "outputId": "b31b0539-5aaa-43f8-f7b9-c1ccd11be389"
      },
      "outputs": [
        {
          "output_type": "stream",
          "name": "stdout",
          "text": [
            "[1 2 3]\n"
          ]
        }
      ],
      "source": [
        "# 별칭을 붙이지 않고 numpy 불러와서 사용\n",
        "import numpy\n",
        "\n",
        "print(np.array([1, 2, 3]))"
      ]
    },
    {
      "cell_type": "code",
      "execution_count": null,
      "metadata": {
        "id": "O3A6QLSDKgZ5",
        "colab": {
          "base_uri": "https://localhost:8080/"
        },
        "outputId": "af64fe5e-322e-4069-e8e9-08327a400cdf"
      },
      "outputs": [
        {
          "output_type": "stream",
          "name": "stdout",
          "text": [
            "[1 2 3 4 5]\n"
          ]
        }
      ],
      "source": [
        "import numpy as np\n",
        "\n",
        "arr_1 = np.array([1,2,3,4,5]) # 1차원 파이썬 리스트를 넘파이 배열로 변환\n",
        "print(arr_1) # 넘파이 배열 출력"
      ]
    },
    {
      "cell_type": "code",
      "execution_count": null,
      "metadata": {
        "id": "YRNY-mlSLWzO",
        "colab": {
          "base_uri": "https://localhost:8080/"
        },
        "outputId": "4425b931-b443-46db-fe3e-7aa7ecbdc794"
      },
      "outputs": [
        {
          "output_type": "stream",
          "name": "stdout",
          "text": [
            "[1, 2, 3, 1, 2, 3]\n"
          ]
        }
      ],
      "source": [
        "# 파이썬 리스트에 *2 연산을 하면 같은 리스트를 2개 이어붙여진 결과 출력\n",
        "list = [1, 2, 3]\n",
        "print(list*2)"
      ]
    },
    {
      "cell_type": "code",
      "execution_count": null,
      "metadata": {
        "id": "pj51lftGLpky",
        "colab": {
          "base_uri": "https://localhost:8080/"
        },
        "outputId": "9001c820-9e1b-4beb-fcbb-a963f0a6182c"
      },
      "outputs": [
        {
          "output_type": "stream",
          "name": "stdout",
          "text": [
            "[2 4 6]\n"
          ]
        }
      ],
      "source": [
        "# 넘파이 1차원 배열인 arr_1 변수에 *2 연산을 하면 각 요소에 2를 곱한 결과 출력\n",
        "import numpy as np\n",
        "arr_1 = np.array([1, 2, 3])\n",
        "print(arr_1 *2)"
      ]
    },
    {
      "cell_type": "code",
      "execution_count": null,
      "metadata": {
        "id": "n0fSXE5cNpdN",
        "colab": {
          "base_uri": "https://localhost:8080/"
        },
        "outputId": "8d565e7b-a147-4a63-999c-67ff465845c4"
      },
      "outputs": [
        {
          "output_type": "stream",
          "name": "stdout",
          "text": [
            "[[1 2 3]\n",
            " [4 5 6]\n",
            " [7 8 9]]\n"
          ]
        }
      ],
      "source": [
        "import numpy as np\n",
        "\n",
        "arr_2 = np.array([[1,2,3],[4,5,6],[7,8,9]])\n",
        "# 2차원 파이썬 리스트를 ndarray로 변환\n",
        "\n",
        "print(arr_2)"
      ]
    },
    {
      "cell_type": "code",
      "execution_count": null,
      "metadata": {
        "id": "NuJ4kRqGOREP",
        "colab": {
          "base_uri": "https://localhost:8080/"
        },
        "outputId": "b5d979a7-1d69-4948-81d6-5e29f9f60a43"
      },
      "outputs": [
        {
          "output_type": "stream",
          "name": "stdout",
          "text": [
            "[[[ 1  2  3]\n",
            "  [ 4  5  6]]\n",
            "\n",
            " [[ 7  8  9]\n",
            "  [10 11 12]]\n",
            "\n",
            " [[13 14 15]\n",
            "  [16 17 18]]]\n"
          ]
        }
      ],
      "source": [
        "import numpy as np\n",
        "\n",
        "arr_3 = np.array([[[1,2,3],[4,5,6]],[[7,8,9],[10,11,12]],[[13, 14, 15],[16,17,18]]])\n",
        "# 3차원 파이썬 리스트를 넘파이 배열로 변환\n",
        "\n",
        "print(arr_3)"
      ]
    },
    {
      "cell_type": "code",
      "execution_count": null,
      "metadata": {
        "colab": {
          "base_uri": "https://localhost:8080/"
        },
        "id": "0Xk_CSEC0ebi",
        "outputId": "d95fc006-b49f-46b5-c33d-171e10bc43ad"
      },
      "outputs": [
        {
          "output_type": "stream",
          "name": "stdout",
          "text": [
            "원본 배열: \n",
            " [[ 1  2  3  4]\n",
            " [ 5  6  7  8]\n",
            " [ 9 10 11 12]]\n"
          ]
        }
      ],
      "source": [
        "# 2차원 배열을 만든 후 axis 별 계산\n",
        "import numpy as np\n",
        "\n",
        "# 2D 배열 생성 (3행 4열)\n",
        "arr = np.array([[1, 2, 3, 4,],[5, 6, 7,8],[9, 10, 11, 12]])\n",
        "\n",
        "print(\"원본 배열: \\n\", arr)"
      ]
    },
    {
      "cell_type": "code",
      "execution_count": null,
      "metadata": {
        "colab": {
          "base_uri": "https://localhost:8080/"
        },
        "id": "TsfFPIXt0ebk",
        "outputId": "fe7f8e42-3853-4270-e5aa-fe27a7115554"
      },
      "outputs": [
        {
          "output_type": "stream",
          "name": "stdout",
          "text": [
            "axis=0(세로 방향) 합계: \n",
            " [15 18 21 24]\n"
          ]
        }
      ],
      "source": [
        "# axis=0 계산(열 기준, 세로방향 연산))\n",
        "sum_axis0 = np.sum(arr, axis=0)\n",
        "print(\"axis=0(세로 방향) 합계: \\n\",sum_axis0)"
      ]
    },
    {
      "cell_type": "code",
      "execution_count": null,
      "metadata": {
        "colab": {
          "base_uri": "https://localhost:8080/"
        },
        "id": "WX5-DkSI0ebk",
        "outputId": "57b8d6bd-e93d-4c3b-d703-81330f47a130"
      },
      "outputs": [
        {
          "output_type": "stream",
          "name": "stdout",
          "text": [
            "axis=1(가로 방향) 합계: \n",
            " [10 26 42]\n"
          ]
        }
      ],
      "source": [
        "# axis=1 계산(행 기준, 가로방향 연산)\n",
        "sum_axis1 = np.sum(arr, axis =1)\n",
        "print(\"axis=1(가로 방향) 합계: \\n\", sum_axis1)"
      ]
    },
    {
      "cell_type": "code",
      "execution_count": null,
      "metadata": {
        "colab": {
          "base_uri": "https://localhost:8080/"
        },
        "id": "VNip8I-p0ebl",
        "outputId": "a771186a-f984-4635-eb6e-8bb5d2240da7"
      },
      "outputs": [
        {
          "output_type": "stream",
          "name": "stdout",
          "text": [
            "원본 3D 배열: \n",
            " [[[ 1  2  3]\n",
            "  [ 4  5  6]]\n",
            "\n",
            " [[ 7  8  9]\n",
            "  [10 11 12]]]\n"
          ]
        }
      ],
      "source": [
        "# 3차원 배열 생성\n",
        "arr_3d = np.array([[[1,2,3],[4,5,6]],[[7,8,9],[10,11,12]]])\n",
        "\n",
        "print(\"원본 3D 배열: \\n\", arr_3d)"
      ]
    },
    {
      "cell_type": "code",
      "source": [
        "# axis=0 기준 계산\n",
        "sum_3d_axis0 = np.sum(arr_3d, axis=0)\n",
        "print(\"axis=0 (깊이 기준 합계): \\n\", sum_3d_axis0)"
      ],
      "metadata": {
        "colab": {
          "base_uri": "https://localhost:8080/"
        },
        "id": "Dw5G3I5MGfF9",
        "outputId": "74d29cdf-ac1e-413f-fc51-d137d4807b6f"
      },
      "execution_count": null,
      "outputs": [
        {
          "output_type": "stream",
          "name": "stdout",
          "text": [
            "axis=0 (깊이 기준 합계): \n",
            " [[ 8 10 12]\n",
            " [14 16 18]]\n"
          ]
        }
      ]
    },
    {
      "cell_type": "code",
      "execution_count": null,
      "metadata": {
        "colab": {
          "base_uri": "https://localhost:8080/"
        },
        "id": "woPo7eby0ebm",
        "outputId": "6a5a09c8-9740-49b7-fdf1-0be530cfe66c"
      },
      "outputs": [
        {
          "output_type": "stream",
          "name": "stdout",
          "text": [
            "axis=1 (행 기준 합계): \n",
            " [[ 5  7  9]\n",
            " [17 19 21]]\n"
          ]
        }
      ],
      "source": [
        "# axis=1 기준 계산\n",
        "sum_3d_axis1 = np.sum(arr_3d, axis=1)\n",
        "print(\"axis=1 (행 기준 합계): \\n\", sum_3d_axis1)"
      ]
    },
    {
      "cell_type": "code",
      "execution_count": null,
      "metadata": {
        "colab": {
          "base_uri": "https://localhost:8080/"
        },
        "id": "o6i1ZeMu0ebn",
        "outputId": "4a866f3e-f417-4cfa-8652-c5c3064ea206"
      },
      "outputs": [
        {
          "output_type": "stream",
          "name": "stdout",
          "text": [
            "axis=2 (열 기준 합계): \n",
            " [[ 6 15]\n",
            " [24 33]]\n"
          ]
        }
      ],
      "source": [
        "# axis=2 기준 계산\n",
        "sum_3d_axis2 = np.sum(arr_3d, axis=2)\n",
        "print(\"axis=2 (열 기준 합계): \\n\", sum_3d_axis2)"
      ]
    },
    {
      "cell_type": "code",
      "execution_count": null,
      "metadata": {
        "id": "nv29Fta1RZCv",
        "colab": {
          "base_uri": "https://localhost:8080/"
        },
        "outputId": "173b3d4d-bf33-4aaa-a568-05ce9761e0ac"
      },
      "outputs": [
        {
          "output_type": "stream",
          "name": "stdout",
          "text": [
            "int64\n"
          ]
        }
      ],
      "source": [
        "# 넘파이 배열을 하나 만들어 변수에 넣고 .dtype을 입력한 결과 출력\n",
        "import numpy as np\n",
        "arr = np.array([1,2,3])\n",
        "print(arr.dtype)"
      ]
    },
    {
      "cell_type": "code",
      "execution_count": null,
      "metadata": {
        "id": "vccGl4cAThib",
        "colab": {
          "base_uri": "https://localhost:8080/"
        },
        "outputId": "7b6b6c12-193b-4245-d7cd-3f6bad60318f"
      },
      "outputs": [
        {
          "output_type": "stream",
          "name": "stdout",
          "text": [
            "int64\n"
          ]
        }
      ],
      "source": [
        "import numpy as np\n",
        "arr = np.array([1,2,3])\n",
        "print(arr.dtype)\n",
        "# dtype 속성을 사용하여 배열의 데이터 타입 출력"
      ]
    },
    {
      "cell_type": "code",
      "execution_count": null,
      "metadata": {
        "id": "57m4F2ErTmP2",
        "colab": {
          "base_uri": "https://localhost:8080/"
        },
        "outputId": "3115f625-8dc9-400f-fb54-468749b6ca95"
      },
      "outputs": [
        {
          "output_type": "stream",
          "name": "stdout",
          "text": [
            "int8\n"
          ]
        }
      ],
      "source": [
        "# array( ) 함수의 dtype 매개변수에 데이터 타입을 인수로 입력하여 데이터 타입 지정\n",
        "print(np.array([1,2,3], dtype=\"int8\").dtype)"
      ]
    },
    {
      "cell_type": "code",
      "execution_count": null,
      "metadata": {
        "id": "AJaECS9ATs10",
        "colab": {
          "base_uri": "https://localhost:8080/"
        },
        "outputId": "3ea6fb3c-4f30-4c3d-bad5-628479f932fe"
      },
      "outputs": [
        {
          "output_type": "stream",
          "name": "stdout",
          "text": [
            "int32\n"
          ]
        }
      ],
      "source": [
        "# dtype 매개변수에 데이터 타입 코드를 인수로 입력하여 데이터 타입 지정\n",
        "print(np.array([1,2,3], dtype=\"i4\").dtype)"
      ]
    },
    {
      "cell_type": "code",
      "execution_count": null,
      "metadata": {
        "id": "57CP_lSRaD53"
      },
      "outputs": [],
      "source": [
        "# 넘파이 배열과 파이썬 리스트 선언\n",
        "import numpy as np\n",
        "\n",
        "# 넘파이 배열\n",
        "ndarray_1 = np.array([1, 2, 3])\n",
        "ndarray_2 = np.array([4, 5, 6])\n",
        "\n",
        "# 파이썬 리스트\n",
        "list_1 = [1, 2, 3]\n",
        "list_2 = [4, 5, 6]"
      ]
    },
    {
      "cell_type": "code",
      "execution_count": null,
      "metadata": {
        "id": "oYWw8WetaLz8",
        "colab": {
          "base_uri": "https://localhost:8080/"
        },
        "outputId": "9b80a33c-b066-45a5-ccd3-29709a611b2a"
      },
      "outputs": [
        {
          "output_type": "stream",
          "name": "stdout",
          "text": [
            "[5 7 9]\n",
            "[1, 2, 3, 4, 5, 6]\n"
          ]
        }
      ],
      "source": [
        "# 넘파이 배열은 두 배열의 요소를 일대일 대응하여 더함, 이것을 요소별 연산이라 함.\n",
        "# 요소별 연산 : 두 배열이 동일한 크기를 가질 때, 각 요소끼리 1:1로 연산이 수행되는 것을 의미\n",
        "print(ndarray_1+ndarray_2)\n",
        "\n",
        "# 파이썬 리스트는 두 리스트를 연결함\n",
        "print(list_1+list_2)"
      ]
    },
    {
      "cell_type": "code",
      "execution_count": null,
      "metadata": {
        "id": "D7bLOFTmpEKp",
        "colab": {
          "base_uri": "https://localhost:8080/"
        },
        "outputId": "e37c58ff-cd44-4fff-ed81-1a268d5b7071"
      },
      "outputs": [
        {
          "output_type": "stream",
          "name": "stdout",
          "text": [
            "[2 3 4]\n",
            "int64\n",
            "[2.1 3.2 4.3]\n",
            "float64\n"
          ]
        }
      ],
      "source": [
        "# 파이썬 리스트로 넘파이 배열 생성하기\n",
        "import numpy as np\n",
        "\n",
        "# 넘파이 정수형 배열 생성\n",
        "int_arr = np.array([2, 3, 4])\n",
        "print(int_arr) # 넘파이 배열 출력\n",
        "print(int_arr.dtype) # 넘파이 배열의 데이터 타입 출력\n",
        "\n",
        "# 넘파이 실수형 배열 생성\n",
        "float_arr = np.array([2.1, 3.2, 4.3])\n",
        "print(float_arr)\n",
        "print(float_arr.dtype)"
      ]
    },
    {
      "cell_type": "code",
      "execution_count": null,
      "metadata": {
        "id": "hWNOsSkxpYZj",
        "colab": {
          "base_uri": "https://localhost:8080/"
        },
        "outputId": "44d932e8-8742-4eea-ff76-9e0a7f28a10a"
      },
      "outputs": [
        {
          "output_type": "stream",
          "name": "stdout",
          "text": [
            "<U1\n"
          ]
        }
      ],
      "source": [
        "# 파이썬 튜플로 넘파이 문자열 배열 생성하기\n",
        "tuple_arr = np.array([\"i\",\"j\",\"k\"])\n",
        "# 데이터 타입 확인\n",
        "print(tuple_arr.dtype)"
      ]
    },
    {
      "cell_type": "code",
      "execution_count": null,
      "metadata": {
        "id": "9Y6K-Hu5pp7J",
        "colab": {
          "base_uri": "https://localhost:8080/"
        },
        "outputId": "3e9c1a4e-60d8-4f93-af22-ae63071de48a"
      },
      "outputs": [
        {
          "output_type": "stream",
          "name": "stdout",
          "text": [
            "bool\n"
          ]
        }
      ],
      "source": [
        "# 파이썬 튜플에 불리언 데이터를 담아 넘파이 논리형 배열 생성하기\n",
        "tuple_bool_arr = np.array([True,False])\n",
        "print(tuple_bool_arr.dtype)"
      ]
    },
    {
      "cell_type": "code",
      "execution_count": null,
      "metadata": {
        "id": "aHLpjJjWp6J8",
        "colab": {
          "base_uri": "https://localhost:8080/"
        },
        "outputId": "ed8007a3-ae3d-44f6-c537-63e1a3196e19"
      },
      "outputs": [
        {
          "output_type": "stream",
          "name": "stdout",
          "text": [
            "['ab' 'cd' 'e']\n",
            "<U2\n"
          ]
        }
      ],
      "source": [
        "# dtype 매개변수로 넘파이 배열의 문자열 길이 지정하기\n",
        "dtype_arr = np.array([\"ab\",\"cd\",\"e\"], dtype=\"<U2\")\n",
        "print(dtype_arr)\n",
        "print(dtype_arr.dtype)"
      ]
    },
    {
      "cell_type": "code",
      "execution_count": null,
      "metadata": {
        "id": "orjSUZUSqY1L",
        "colab": {
          "base_uri": "https://localhost:8080/"
        },
        "outputId": "1c5fa36d-5a8b-45d9-ee79-ca1e128602f1"
      },
      "outputs": [
        {
          "output_type": "stream",
          "name": "stdout",
          "text": [
            "[[ 0  1  2  3]\n",
            " [ 4  5  6  7]\n",
            " [ 8  9 10 11]]\n"
          ]
        }
      ],
      "source": [
        "import numpy as np\n",
        "\n",
        "# a 라는 변수에 (3, 4) 크기의 넘파이 2차원 배열 생성\n",
        "a = np.arange(12).reshape(3,4)\n",
        "print(a)"
      ]
    },
    {
      "cell_type": "code",
      "execution_count": null,
      "metadata": {
        "id": "ag5gnLhLqoEP",
        "colab": {
          "base_uri": "https://localhost:8080/"
        },
        "outputId": "291786c7-b2a7-4b78-8d36-7f465b754315"
      },
      "outputs": [
        {
          "output_type": "stream",
          "name": "stdout",
          "text": [
            "(3, 4)\n",
            "2\n",
            "int64\n",
            "8\n",
            "12\n"
          ]
        }
      ],
      "source": [
        "# 배열의 차원과 차원의 크기 반환\n",
        "print(a.shape)\n",
        "\n",
        "# 배열의 차원 수 반환\n",
        "print(a.ndim)\n",
        "\n",
        "# 배열의 데이터 타입 반환\n",
        "print(a.dtype)\n",
        "\n",
        "# 배열의 각 요소의 크기를 바이트 단위로 반환\n",
        "print(a.itemsize)\n",
        "\n",
        "# 배열의 총 요소의 수 반환\n",
        "print(a.size)\n"
      ]
    },
    {
      "cell_type": "code",
      "execution_count": null,
      "metadata": {
        "id": "All7jCd5qONn",
        "colab": {
          "base_uri": "https://localhost:8080/"
        },
        "outputId": "a8cfeceb-0259-4f87-e6a5-00de9c7a0ca3"
      },
      "outputs": [
        {
          "output_type": "stream",
          "name": "stdout",
          "text": [
            "[[0. 0. 0. 0.]\n",
            " [0. 0. 0. 0.]\n",
            " [0. 0. 0. 0.]]\n",
            "[[0 0 0 0]\n",
            " [0 0 0 0]\n",
            " [0 0 0 0]]\n"
          ]
        }
      ],
      "source": [
        "# np.zeros( ) 함수를 사용해 모든 요소가 0으로 초기화된 배열 생성\n",
        "import numpy as np\n",
        "\n",
        "# (3, 4) 크기의 배열을 생성하여 0으로 채움\n",
        "print(np.zeros((3,4)))\n",
        "\n",
        "# (3, 4) 크기의 배열을 데이터 타입을 정수로 생성한 후, 0으로 채움\n",
        "print(np.zeros((3,4), dtype = int))"
      ]
    },
    {
      "cell_type": "code",
      "execution_count": null,
      "metadata": {
        "id": "spTNMDkcsWQQ",
        "colab": {
          "base_uri": "https://localhost:8080/"
        },
        "outputId": "c5bc82a7-ea9c-4f25-96c3-d933edcf6ef9"
      },
      "outputs": [
        {
          "output_type": "stream",
          "name": "stdout",
          "text": [
            "[[[1 1 1 1]\n",
            "  [1 1 1 1]\n",
            "  [1 1 1 1]]\n",
            "\n",
            " [[1 1 1 1]\n",
            "  [1 1 1 1]\n",
            "  [1 1 1 1]]]\n"
          ]
        }
      ],
      "source": [
        "# (2, 3, 4) 크기의 배열을 생성하여 데이터 타입을 정수로 설정한 후, 1로 채움\n",
        "print(np.ones((2, 3, 4), dtype=int))"
      ]
    },
    {
      "cell_type": "code",
      "execution_count": null,
      "metadata": {
        "id": "2tLycsLHsWt4",
        "colab": {
          "base_uri": "https://localhost:8080/"
        },
        "outputId": "6de83398-3a70-4a5d-ff22-5fee037aa698"
      },
      "outputs": [
        {
          "output_type": "stream",
          "name": "stdout",
          "text": [
            "[[3.37336328e-316 0.00000000e+000 6.77642281e-310]\n",
            " [6.77642281e-310 0.00000000e+000 0.00000000e+000]]\n"
          ]
        }
      ],
      "source": [
        "# (2, 3) 크기의 빈 배열 생성\n",
        "print(np.empty((2,3)))"
      ]
    },
    {
      "cell_type": "code",
      "execution_count": null,
      "metadata": {
        "id": "vbAMpUzGtOtb",
        "colab": {
          "base_uri": "https://localhost:8080/"
        },
        "outputId": "09c25646-807e-43c3-9174-497b808e1dbc"
      },
      "outputs": [
        {
          "output_type": "stream",
          "name": "stdout",
          "text": [
            "[10 15 20 25]\n",
            "[0.  0.3 0.6 0.9 1.2 1.5 1.8]\n"
          ]
        }
      ],
      "source": [
        "# arange( ) 함수로 넘파이 배열 만들기\n",
        "import numpy as np\n",
        "\n",
        "# 10 이상 30 미만까지 5 간격으로 생성\n",
        "print(np.arange(10, 30, 5))\n",
        "\n",
        "# 0 이상 2 미만까지 0.3 간격으로 생성\n",
        "print(np.arange(0, 2, 0.3))\n"
      ]
    },
    {
      "cell_type": "code",
      "execution_count": null,
      "metadata": {
        "id": "hdHRtfu9t-VA",
        "colab": {
          "base_uri": "https://localhost:8080/"
        },
        "outputId": "09df01a3-91bc-4dab-e01d-3dff4d344a08"
      },
      "outputs": [
        {
          "output_type": "stream",
          "name": "stdout",
          "text": [
            "[ 1.  2.  3.  4.  5.  6.  7.  8.  9. 10.]\n"
          ]
        }
      ],
      "source": [
        "# linspace( ) 함수로 넘파이 배열 만들기\n",
        "# 1 이상 10 이하까지 값을 가진 크기 10짜리 배열 생성\n",
        "print(np.linspace(1, 10, 10))"
      ]
    },
    {
      "cell_type": "code",
      "execution_count": null,
      "metadata": {
        "id": "kF1UoZ9jvA0A",
        "colab": {
          "base_uri": "https://localhost:8080/"
        },
        "outputId": "af5e98e2-f650-4944-87f2-fa65f21777e2"
      },
      "outputs": [
        {
          "output_type": "stream",
          "name": "stdout",
          "text": [
            "[10 20 30 40]\n",
            "[1 2 3 4]\n",
            "[11 22 33 44]\n",
            "[ 9 18 27 36]\n",
            "[ 10  40  90 160]\n",
            "[10. 10. 10. 10.]\n"
          ]
        }
      ],
      "source": [
        "# 요소별 연산으로 사칙 연산하기\n",
        "import numpy as np\n",
        "\n",
        "# a와 b 배열 생성하여 출력\n",
        "a = np.array([10, 20, 30, 40])\n",
        "b = np.arange(1, 5)\n",
        "print(a)\n",
        "print(b)\n",
        "\n",
        "# 덧셈 연산\n",
        "print(a+b)\n",
        "\n",
        "# 뺄셈 연산\n",
        "print(a-b)\n",
        "\n",
        "# 곱셈 연산\n",
        "print(a*b)\n",
        "\n",
        "# 나눗셈 연산\n",
        "print(a/b)\n"
      ]
    },
    {
      "cell_type": "code",
      "execution_count": null,
      "metadata": {
        "id": "UvNAg_k2wBHd",
        "colab": {
          "base_uri": "https://localhost:8080/"
        },
        "outputId": "59c4a7fd-f7e3-4b71-a41e-74e409230cd5"
      },
      "outputs": [
        {
          "output_type": "stream",
          "name": "stdout",
          "text": [
            "[[2 0]\n",
            " [0 4]]\n",
            "[[5 4]\n",
            " [3 4]]\n"
          ]
        }
      ],
      "source": [
        "# 요소별 연산으로 행렬 곱셈하기\n",
        "# A와 B 배열 생성\n",
        "A = np.array([[1,1],[0,1]])\n",
        "B = np.array([[2,0],[3,4]])\n",
        "\n",
        "# A * B : 요소별 곱셈 연산\n",
        "print(A*B)\n",
        "\n",
        "# A @ B : 행렬 곱셈 사용\n",
        "print(A@B)\n"
      ]
    },
    {
      "cell_type": "code",
      "execution_count": null,
      "metadata": {
        "id": "l_MkNYTrwb8g",
        "colab": {
          "base_uri": "https://localhost:8080/"
        },
        "outputId": "8b09a8d1-c3f9-42d3-bfb8-f951e242540b"
      },
      "outputs": [
        {
          "output_type": "stream",
          "name": "stdout",
          "text": [
            "[False  True False  True]\n",
            "[ True False  True False]\n"
          ]
        }
      ],
      "source": [
        "# 요소별 연산으로 비교 연산하기\n",
        "import numpy as np\n",
        "\n",
        "# A와 B 배열 생성\n",
        "A = np.array([1, 2, 3, 4])\n",
        "B = np.array([1, 1, 3, 3])\n",
        "\n",
        "# 비교 연산\n",
        "print(A>B)\n",
        "print(A==B)"
      ]
    },
    {
      "cell_type": "code",
      "execution_count": null,
      "metadata": {
        "id": "hI-orfK6xM2S",
        "colab": {
          "base_uri": "https://localhost:8080/"
        },
        "outputId": "42e8b01a-e2b7-4bf3-c22f-3be7bfd43bb1"
      },
      "outputs": [
        {
          "output_type": "stream",
          "name": "stdout",
          "text": [
            "[2. 4. 5.]\n"
          ]
        }
      ],
      "source": [
        "# 수학 함수와 함께 벡터화 연산해보기\n",
        "import numpy as np\n",
        "\n",
        "# A 배열 생성\n",
        "A = np.array([4, 16, 25])\n",
        "\n",
        "# 제곱근 함수\n",
        "print(np.sqrt(A))"
      ]
    },
    {
      "cell_type": "code",
      "execution_count": null,
      "metadata": {
        "id": "s61bfNwix9f7",
        "colab": {
          "base_uri": "https://localhost:8080/"
        },
        "outputId": "c87ce2d3-3e22-4eff-b935-b02a95a07f8d"
      },
      "outputs": [
        {
          "output_type": "stream",
          "name": "stdout",
          "text": [
            "[[ 0  1  4  9]\n",
            " [16 25 36 49]]\n",
            "140\n",
            "17.5\n",
            "0\n",
            "49\n",
            "[  0   1   5  14  30  55  91 140]\n",
            "7\n"
          ]
        }
      ],
      "source": [
        "import numpy as np\n",
        "# a 배열 생성 & 출력\n",
        "# 0부터 8 미만까지 출력하고 (2, 4) 크기로 재가공하고 제곱하여 출력\n",
        "a = np.arange(8).reshape(2, 4) ** 2\n",
        "print(a)\n",
        "\n",
        "# 모든 요소의 합\n",
        "print(a.sum())\n",
        "\n",
        "# 모든 요소 중 평균\n",
        "print(a.mean())\n",
        "\n",
        "# 모든 요소 중 최솟값\n",
        "print(a.min())\n",
        "\n",
        "# 모든 요소 중 최댓값\n",
        "print(a.max())\n",
        "\n",
        "# 모든 요소의 누적합\n",
        "print(a.cumsum())\n",
        "\n",
        "# 모든 요소 중 최댓값의 인덱스\n",
        "print(a.argmax())"
      ]
    },
    {
      "cell_type": "code",
      "execution_count": null,
      "metadata": {
        "id": "UAY7CON4yiZN",
        "colab": {
          "base_uri": "https://localhost:8080/"
        },
        "outputId": "3a06d17a-a012-4392-b36f-25d75b94575e"
      },
      "outputs": [
        {
          "output_type": "stream",
          "name": "stdout",
          "text": [
            "[[ 0  1  4  9]\n",
            " [16 25 36 49]]\n",
            "[16 26 40 58]\n",
            "[ 14 126]\n"
          ]
        }
      ],
      "source": [
        "# 집계 함수에 축 사용해보기\n",
        "import numpy as np\n",
        "\n",
        "# 0부터 8미만까지 출력하고 (2, 4) 크기로 재가공하고 제곱하여 출력\n",
        "a = np.arange(8).reshape(2, 4) ** 2\n",
        "print(a)\n",
        "\n",
        "# axis = 0은 열 기준으로 연산\n",
        "a_axis0 = np.sum(a, axis=0)\n",
        "print(a_axis0)\n",
        "\n",
        "# axis = 1은 행 기준으로 연산\n",
        "a_axis1 = np.sum(a, axis=1)\n",
        "print(a_axis1)"
      ]
    },
    {
      "cell_type": "code",
      "execution_count": null,
      "metadata": {
        "id": "089ueffy01-f",
        "colab": {
          "base_uri": "https://localhost:8080/"
        },
        "outputId": "2bbbb94f-d5e4-454a-a614-ade3a87a4887"
      },
      "outputs": [
        {
          "output_type": "stream",
          "name": "stdout",
          "text": [
            "[0 1 2 3 4 5]\n",
            "0\n",
            "3\n"
          ]
        }
      ],
      "source": [
        "# 넘파이 1차원 배열의 특정 위치의 값을 가져오는 단일 요소 인덱싱\n",
        "import numpy as np\n",
        "\n",
        "a = np.array([0, 1, 2, 3, 4, 5])\n",
        "print(a)\n",
        "\n",
        "# 인덱스가 0인, 인덱스가 3인 요소 출력\n",
        "print(a[0])\n",
        "print(a[3])"
      ]
    },
    {
      "cell_type": "code",
      "execution_count": null,
      "metadata": {
        "id": "Q8TucksQ09Kp",
        "colab": {
          "base_uri": "https://localhost:8080/"
        },
        "outputId": "79660888-9d63-48b1-ebcd-59f4d61233e2"
      },
      "outputs": [
        {
          "output_type": "stream",
          "name": "stdout",
          "text": [
            "[[0 1 2]\n",
            " [3 4 5]]\n",
            "3\n",
            "5\n"
          ]
        }
      ],
      "source": [
        "# 2차원 배열의 특정 위치를 선택\n",
        "b = np.array([[0, 1, 2], [3, 4, 5]])\n",
        "print(b)\n",
        "\n",
        "# 인덱스가 [1, 0]인, 인덱스가 [1, 2]인 요소 출력\n",
        "print(b[1,0])\n",
        "print(b[1,2])"
      ]
    },
    {
      "cell_type": "code",
      "execution_count": null,
      "metadata": {
        "id": "NT6zAG801jyt",
        "colab": {
          "base_uri": "https://localhost:8080/"
        },
        "outputId": "62fdf20b-64b1-4979-955b-6f7b4b1bbf35"
      },
      "outputs": [
        {
          "output_type": "stream",
          "name": "stdout",
          "text": [
            "[0 1 2 3 4 5]\n",
            "[0 1 2]\n"
          ]
        }
      ],
      "source": [
        "import numpy as np\n",
        "\n",
        "a = np.array([0, 1, 2, 3, 4, 5])\n",
        "print(a)\n",
        "\n",
        "# 인덱스 0 이상 인덱스 3 미만 범위의 요소 출력\n",
        "print(a[0:3])"
      ]
    },
    {
      "cell_type": "code",
      "execution_count": null,
      "metadata": {
        "id": "vR41k_DI22Ak",
        "colab": {
          "base_uri": "https://localhost:8080/"
        },
        "outputId": "57572c92-4ee2-4b03-cdac-02bb923a27e8"
      },
      "outputs": [
        {
          "output_type": "stream",
          "name": "stdout",
          "text": [
            "[[ 0  1  2  3]\n",
            " [ 4  5  6  7]\n",
            " [ 8  9 10 11]]\n",
            "[[False False False False]\n",
            " [False  True  True  True]\n",
            " [ True  True  True  True]]\n"
          ]
        }
      ],
      "source": [
        "# 2차원 배열에서 4보다 큰 값에 일대일 대응하는 논리형 배열 생성\n",
        "import numpy as np\n",
        "\n",
        "a = np.arange(12).reshape(3, 4)\n",
        "print(a)\n",
        "\n",
        "# a > 4 조건을 적용한 논리형 배열 생성\n",
        "b = a > 4\n",
        "print(b)"
      ]
    },
    {
      "cell_type": "code",
      "execution_count": null,
      "metadata": {
        "id": "6q3mWlJg3FnC",
        "colab": {
          "base_uri": "https://localhost:8080/"
        },
        "outputId": "ef2e6059-e5ba-469b-fcbf-78aeaf39153a"
      },
      "outputs": [
        {
          "output_type": "stream",
          "name": "stdout",
          "text": [
            "[ 5  6  7  8  9 10 11]\n",
            "(7,)\n"
          ]
        }
      ],
      "source": [
        "# 논리형 배열 b를 사용하여 조건에 맞는 요소 추출\n",
        "print(a[b])\n",
        "\n",
        "# 추출한 요소들의 배열 모양\n",
        "print(a[b].shape)"
      ]
    },
    {
      "cell_type": "code",
      "execution_count": null,
      "metadata": {
        "id": "dCVkXG9M7TSX",
        "colab": {
          "base_uri": "https://localhost:8080/"
        },
        "outputId": "306ae6a8-d984-4819-9555-d499e6386454"
      },
      "outputs": [
        {
          "output_type": "stream",
          "name": "stdout",
          "text": [
            "[[   0    1    2    3]\n",
            " [   4 1000 1000 1000]\n",
            " [1000 1000 1000 1000]]\n"
          ]
        }
      ],
      "source": [
        "# 논리형 배열인 b를 이용하여 원본 a 배열의 값 변경하기(True인 값의 위치에 변경하기)\n",
        "a[b] = 1000\n",
        "print(a)"
      ]
    },
    {
      "cell_type": "code",
      "execution_count": null,
      "metadata": {
        "id": "ULaKsU5y8Oun",
        "colab": {
          "base_uri": "https://localhost:8080/"
        },
        "outputId": "6f7de535-d01f-47e5-93d4-cee052f78a3a"
      },
      "outputs": [
        {
          "output_type": "stream",
          "name": "stdout",
          "text": [
            "['b' 'b' 'd' 'e']\n",
            "[['d' 'e']\n",
            " ['f' 'g']]\n"
          ]
        }
      ],
      "source": [
        "# 정수 배열 인덱싱 이해하기\n",
        "import numpy as np\n",
        "\n",
        "a = np.array(['a', 'b', 'c', 'd', 'e', 'f', 'g', 'h'])\n",
        "i = np.array([1,1,3,4])\n",
        "\n",
        "# 배열 a에서 배열 i에 지정된 인덱스의 원소들을 출력\n",
        "print(a[i])\n",
        "\n",
        "# 배열 a에서 배열 j에 지정된 인덱스의 원소들을 출력\n",
        "j = np.array([[3, 4], [5, 6]])\n",
        "print(a[j])"
      ]
    },
    {
      "cell_type": "code",
      "execution_count": null,
      "metadata": {
        "id": "eC-66T8T8dfq",
        "colab": {
          "base_uri": "https://localhost:8080/"
        },
        "outputId": "ac5f7bfe-5841-4992-f6e5-e1eb67e847e7"
      },
      "outputs": [
        {
          "output_type": "stream",
          "name": "stdout",
          "text": [
            "['d' 'c' 'b' 'a']\n"
          ]
        }
      ],
      "source": [
        "b = np.array(['a', 'b', 'c', 'd'])\n",
        "k = np.array([3, 2, 1, 0])\n",
        "\n",
        "# 배열 b에서 배열 k에 지정된 인덱스의 원소들을 재배열\n",
        "b = b[k]\n",
        "print(b)"
      ]
    },
    {
      "cell_type": "code",
      "execution_count": null,
      "metadata": {
        "id": "R1hK5UMd8rXQ",
        "colab": {
          "base_uri": "https://localhost:8080/"
        },
        "outputId": "03b584f9-e61e-449a-92ee-8d4d2bd055d3"
      },
      "outputs": [
        {
          "output_type": "stream",
          "name": "stdout",
          "text": [
            "[[ 0  1  2  3]\n",
            " [ 4  5  6  7]\n",
            " [ 8  9 10 11]]\n",
            "(3, 4)\n",
            "2\n"
          ]
        }
      ],
      "source": [
        "# reshape( ) 함수로 (3, 4) 형태의 배열 생성\n",
        "import numpy as np\n",
        "a = np.arange(12).reshape(3, 4)\n",
        "\n",
        "# a 배열 생성\n",
        "a = np.arange(12).reshape(3,4)\n",
        "print(a)\n",
        "print(a.shape)\n",
        "print(a.ndim)"
      ]
    },
    {
      "cell_type": "code",
      "execution_count": null,
      "metadata": {
        "id": "phnpk_gy9G5u",
        "colab": {
          "base_uri": "https://localhost:8080/"
        },
        "outputId": "da4e9756-6a5a-4368-84f6-ff1aef3551b8"
      },
      "outputs": [
        {
          "output_type": "stream",
          "name": "stdout",
          "text": [
            "[[ 0  1  2  3  4  5]\n",
            " [ 6  7  8  9 10 11]]\n",
            "(2, 6)\n",
            "[[ 0  1  2  3]\n",
            " [ 4  5  6  7]\n",
            " [ 8  9 10 11]]\n"
          ]
        }
      ],
      "source": [
        "# a 배열을 다시 reshape( ) 함수로 변형하여 b에 저장\n",
        "# .reshape : 지정한 차원으로 변경하고 새로운 배열 반환\n",
        "b = a.reshape(2,6)\n",
        "print(b)\n",
        "print(b.shape)\n",
        "\n",
        "# 원본 a 배열은 기존의 (3, 4) 형태 유지\n",
        "print(a)"
      ]
    },
    {
      "cell_type": "code",
      "execution_count": null,
      "metadata": {
        "id": "d3GBDCDR9dlM",
        "colab": {
          "base_uri": "https://localhost:8080/"
        },
        "outputId": "25b2a23d-7cee-46ee-df6b-502e0a325151"
      },
      "outputs": [
        {
          "output_type": "stream",
          "name": "stdout",
          "text": [
            "[[ 0  1  2]\n",
            " [ 3  4  5]\n",
            " [ 6  7  8]\n",
            " [ 9 10 11]]\n"
          ]
        }
      ],
      "source": [
        "# 1번째 매개변수에 -1을 전달해도 같은 결과가 나옴(자동 계산)\n",
        "b = a.reshape(-1,3)\n",
        "print(b)"
      ]
    },
    {
      "cell_type": "code",
      "execution_count": null,
      "metadata": {
        "id": "ofNmOgWGB0-Q",
        "colab": {
          "base_uri": "https://localhost:8080/"
        },
        "outputId": "437569b0-1b31-4c33-bb18-1613c69d27b8"
      },
      "outputs": [
        {
          "output_type": "stream",
          "name": "stdout",
          "text": [
            "[[ 0  1  2]\n",
            " [ 3  4  5]\n",
            " [ 6  7  8]\n",
            " [ 9 10 11]]\n",
            "(4, 3)\n",
            "None\n"
          ]
        }
      ],
      "source": [
        "import numpy as np\n",
        "\n",
        "# .resize() : 지정한 차원으로 변경하고 원본 배열 자체를 변경\n",
        "a = np.arange(12)\n",
        "a.resize(4,3)\n",
        "print(a)\n",
        "print(a.shape)\n",
        "\n",
        "# 따로 반환하는 값 없음\n",
        "print(a.resize(4, 3))"
      ]
    },
    {
      "cell_type": "code",
      "execution_count": null,
      "metadata": {
        "id": "qjg4XjqpFweL",
        "colab": {
          "base_uri": "https://localhost:8080/"
        },
        "outputId": "74024469-7c40-44d2-dff1-97004726d160"
      },
      "outputs": [
        {
          "output_type": "stream",
          "name": "stdout",
          "text": [
            "[ 0  1  2  3  4  5  6  7  8  9 10 11]\n",
            "[ 0  1  2  3  4  5  6  7  8  9 10 11]\n"
          ]
        }
      ],
      "source": [
        "# (3, 4) 형태의 배열을 1차원 배열로 평탄화\n",
        "import numpy as np\n",
        "\n",
        "a = np.arange(12).reshape(3, 4)\n",
        "\n",
        "# .ravel : 1차원 배열로 크기 변경\n",
        "print(a.ravel())\n",
        "\n",
        "# .reshape(-1) : 1차원 배열로 크기 변경\n",
        "print(a.reshape(-1))"
      ]
    },
    {
      "cell_type": "code",
      "execution_count": null,
      "metadata": {
        "id": "McqxHRM6F8x7",
        "colab": {
          "base_uri": "https://localhost:8080/"
        },
        "outputId": "151c0773-055a-4123-91ab-bd1813f0517e"
      },
      "outputs": [
        {
          "output_type": "stream",
          "name": "stdout",
          "text": [
            "[[ 0  1  2  3  4  5]\n",
            " [ 6  7  8  9 10 11]]\n",
            "[[ 0  6]\n",
            " [ 1  7]\n",
            " [ 2  8]\n",
            " [ 3  9]\n",
            " [ 4 10]\n",
            " [ 5 11]]\n",
            "(6, 2)\n",
            "[[ 0  6]\n",
            " [ 1  7]\n",
            " [ 2  8]\n",
            " [ 3  9]\n",
            " [ 4 10]\n",
            " [ 5 11]]\n",
            "(6, 2)\n"
          ]
        }
      ],
      "source": [
        "import numpy as np\n",
        "\n",
        "A = np.arange(12).reshape(2, 6)\n",
        "print(A)\n",
        "\n",
        "# .T : [2, 6]을 [6, 2] 반환으로 전치(transpose) 변환\n",
        "print(A.T)\n",
        "print(A.T.shape)\n",
        "\n",
        "# 만약 전치 형태로 원본 A 배열에 저장하고 싶다면, A배열에 A.T 값을 할당\n",
        "A = A.T\n",
        "print(A)\n",
        "print(A.shape)"
      ]
    },
    {
      "cell_type": "code",
      "execution_count": null,
      "metadata": {
        "id": "deL7Njm3Ge2h",
        "colab": {
          "base_uri": "https://localhost:8080/"
        },
        "outputId": "b7cf8ed7-797a-459e-c08b-8624df163eb6"
      },
      "outputs": [
        {
          "output_type": "stream",
          "name": "stdout",
          "text": [
            "[[1 2]\n",
            " [3 4]\n",
            " [5 6]\n",
            " [7 8]]\n",
            "[[1 2 5 6]\n",
            " [3 4 7 8]]\n"
          ]
        }
      ],
      "source": [
        "# 다차원 배열을 수직 및 수평으로 합치기\n",
        "import numpy as np\n",
        "\n",
        "# a 배열, b 배열 생성\n",
        "a = np.array([1, 2, 3, 4]).reshape(2, 2)\n",
        "b = np.array([5, 6, 7, 8]).reshape(2, 2)\n",
        "\n",
        "# 수직으로 합치기\n",
        "print(np.vstack((a,b)))\n",
        "\n",
        "# 수평으로 합치기\n",
        "print(np.hstack((a,b)))"
      ]
    },
    {
      "cell_type": "code",
      "execution_count": null,
      "metadata": {
        "id": "FysvzPPsGrgx",
        "colab": {
          "base_uri": "https://localhost:8080/"
        },
        "outputId": "99eeff07-1712-41af-de32-2de5b23f2505"
      },
      "outputs": [
        {
          "output_type": "stream",
          "name": "stdout",
          "text": [
            "[[ 0  1  2  3  4  5]\n",
            " [ 6  7  8  9 10 11]]\n",
            "[array([[0, 1, 2, 3, 4, 5]]), array([[ 6,  7,  8,  9, 10, 11]])]\n",
            "[array([[0, 1],\n",
            "       [6, 7]]), array([[2, 3],\n",
            "       [8, 9]]), array([[ 4,  5],\n",
            "       [10, 11]])]\n"
          ]
        }
      ],
      "source": [
        "# 다차원 배열을 수직 및 수평으로 분할하기\n",
        "import numpy as np\n",
        "\n",
        "# a 배열 생성\n",
        "a = np.arange(12).reshape(2, 6)\n",
        "print(a)\n",
        "\n",
        "# 수직으로 분할하기\n",
        "print(np.vsplit(a,2))\n",
        "\n",
        "# 수평으로 분할하기\n",
        "print(np.hsplit(a,3))"
      ]
    }
  ],
  "metadata": {
    "colab": {
      "provenance": [],
      "include_colab_link": true
    },
    "kernelspec": {
      "display_name": "Python 3",
      "name": "python3"
    },
    "language_info": {
      "codemirror_mode": {
        "name": "ipython",
        "version": 3
      },
      "file_extension": ".py",
      "mimetype": "text/x-python",
      "name": "python",
      "nbconvert_exporter": "python",
      "pygments_lexer": "ipython3",
      "version": "3.12.2"
    }
  },
  "nbformat": 4,
  "nbformat_minor": 0
}